{
  "nbformat": 4,
  "nbformat_minor": 0,
  "metadata": {
    "colab": {
      "name": "InsertionSort.ipynb",
      "provenance": [],
      "collapsed_sections": []
    },
    "kernelspec": {
      "name": "python3",
      "display_name": "Python 3"
    }
  },
  "cells": [
    {
      "cell_type": "markdown",
      "metadata": {
        "id": "FYhAnxsHh-F5"
      },
      "source": [
        "Algoritmo Insertion Sort"
      ]
    },
    {
      "cell_type": "code",
      "metadata": {
        "id": "MILhw-onhUTj"
      },
      "source": [
        "from random import seed\n",
        "from random import randint\n",
        "import numpy as np\n",
        "\n",
        "def insertionsort(cant):\n",
        "    listaDesordenada = []\n",
        "    seed(1)\n",
        "    for _ in range(cant):\n",
        "      listaDesordenada = np.append(listaDesordenada, randint(0,50))\n",
        "    veces = 0\n",
        "    for i in range(len(listaDesordenada)):\n",
        "        for j in range(i,0,-1):\n",
        "            veces+=1\n",
        "            if listaDesordenada[j] < listaDesordenada[j-1]:\n",
        "                listaDesordenada[j], listaDesordenada[j-1] = listaDesordenada[j-1], listaDesordenada[j]\n",
        "            else:\n",
        "              break\n",
        "    print(listaDesordenada)\n",
        "    return veces\n",
        "\n"
      ],
      "execution_count": 2,
      "outputs": []
    },
    {
      "cell_type": "code",
      "metadata": {
        "colab": {
          "base_uri": "https://localhost:8080/"
        },
        "id": "aEcCNva6h1No",
        "outputId": "3d7ae974-b31e-4a49-d47e-3958c53c014f"
      },
      "source": [
        "insertionsort(50);"
      ],
      "execution_count": 3,
      "outputs": [
        {
          "output_type": "stream",
          "text": [
            "[ 0.  0.  1.  1.  1.  1.  1.  4.  6.  6.  7.  8. 13. 13. 14. 14. 14. 16.\n",
            " 17. 20. 24. 24. 24. 27. 27. 28. 28. 28. 30. 31. 31. 31. 33. 34. 35. 36.\n",
            " 37. 38. 41. 41. 43. 44. 46. 46. 48. 48. 48. 48. 49. 50.]\n"
          ],
          "name": "stdout"
        }
      ]
    },
    {
      "cell_type": "markdown",
      "metadata": {
        "id": "o4jdPZseiDlp"
      },
      "source": [
        "Analisis de tiempos de ejecucion"
      ]
    },
    {
      "cell_type": "code",
      "metadata": {
        "colab": {
          "base_uri": "https://localhost:8080/",
          "height": 823
        },
        "id": "bxkGwm9Dhkmz",
        "outputId": "5e6e2c72-b10a-4782-fe39-93945a3add95"
      },
      "source": [
        "import matplotlib.pyplot as plt\n",
        "import numpy as np\n",
        "import time as t\n",
        "\n",
        "times = {}\n",
        "\n",
        "def test(n):\n",
        "  start_time = t.time()\n",
        "  print(insertionsort(n))\n",
        "  times[n]= t.time() - start_time\n",
        "  print(\"--- %s seconds ---\" % (times[n]))\n",
        "\n",
        "def plot(times):\n",
        "  lists = sorted(times.items())\n",
        "  x, y = zip(*lists)\n",
        "  plt.plot(x, y)\n",
        "  plt.show()\n",
        "  print(times)\n",
        "\n",
        "for i in range(10):\n",
        "  test(i)\n",
        "\n",
        "plot(times)"
      ],
      "execution_count": null,
      "outputs": [
        {
          "output_type": "stream",
          "text": [
            "[]\n",
            "0\n",
            "--- 0.0005726814270019531 seconds ---\n",
            "[8.]\n",
            "0\n",
            "--- 0.0007815361022949219 seconds ---\n",
            "[ 8. 36.]\n",
            "1\n",
            "--- 0.0005276203155517578 seconds ---\n",
            "[ 8. 36. 48.]\n",
            "2\n",
            "--- 0.0010628700256347656 seconds ---\n",
            "[ 4.  8. 36. 48.]\n",
            "5\n",
            "--- 0.0004172325134277344 seconds ---\n",
            "[ 4.  8. 16. 36. 48.]\n",
            "8\n",
            "--- 0.00046133995056152344 seconds ---\n",
            "[ 4.  7.  8. 16. 36. 48.]\n",
            "13\n",
            "--- 0.00044918060302734375 seconds ---\n",
            "[ 4.  7.  8. 16. 31. 36. 48.]\n",
            "16\n",
            "--- 0.0005466938018798828 seconds ---\n",
            "[ 4.  7.  8. 16. 31. 36. 48. 48.]\n",
            "17\n",
            "--- 0.0018703937530517578 seconds ---\n",
            "[ 4.  7.  8. 16. 28. 31. 36. 48. 48.]\n",
            "22\n",
            "--- 0.0006163120269775391 seconds ---\n"
          ],
          "name": "stdout"
        },
        {
          "output_type": "display_data",
          "data": {
            "image/png": "[encoded data removed]",
            "text/plain": [
              "<Figure size 432x288 with 1 Axes>"
            ]
          },
          "metadata": {
            "tags": [],
            "needs_background": "light"
          }
        },
        {
          "output_type": "stream",
          "text": [
            "{0: 0.0005726814270019531, 1: 0.0007815361022949219, 2: 0.0005276203155517578, 3: 0.0010628700256347656, 4: 0.0004172325134277344, 5: 0.00046133995056152344, 6: 0.00044918060302734375, 7: 0.0005466938018798828, 8: 0.0018703937530517578, 9: 0.0006163120269775391}\n"
          ],
          "name": "stdout"
        }
      ]
    },
    {
      "cell_type": "markdown",
      "metadata": {
        "id": "MlqS0caLiIVb"
      },
      "source": [
        "Analisis de complejidad:\n",
        "\n",
        "En este algoritmo no se puede utilizar master method por lo tanto el analisis queda asi:\n",
        "\n",
        "T(n) = C1 + (O(n) * C2) + C3 + (O(n) * (O(m) * C4)) + C5"
      ]
    },
    {
      "cell_type": "markdown",
      "metadata": {
        "id": "auTLyKINiLrm"
      },
      "source": [
        "Analisis cualitativo:\n",
        "\n",
        "El insertion Sort es una manera natural de ordenar.\n",
        "\n",
        "Este ordenamiento requiere de O(n^2) para ordenar una lista de n Elementos.\n",
        "Al tener un un arreglo desordenado lo que hace es que se toma el elemento k + 1 y este comienza a ser comparado con los elementos que estan a su izquierda para saber si este elemento es mayor o menor que el elemento anterior a el, si este elemento anterior es mayor que el elemento actual se intercambian posiciones y se pasa el mayor a la derecha y el menor va a la izquierda. Siguiendo este patron lo que lograriamos es que todos los mayores al elemento actual quedaran a la derecha y el elemento se insertaria en la posicion donde se encuentre un elemento menor que el. \n",
        "Este algoritmo puede correr a una velocidad mejor que O(N^2) y esto seria con un arreglo que este cada  vez menos desordenado que se convertiria en un O(n).\n"
      ]
    }
  ]
}