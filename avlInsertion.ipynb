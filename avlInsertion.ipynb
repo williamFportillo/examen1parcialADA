{
  "nbformat": 4,
  "nbformat_minor": 0,
  "metadata": {
    "colab": {
      "name": "avlInsertion.ipynb",
      "provenance": [],
      "collapsed_sections": []
    },
    "kernelspec": {
      "name": "python3",
      "display_name": "Python 3"
    }
  },
  "cells": [
    {
      "cell_type": "code",
      "metadata": {
        "colab": {
          "base_uri": "https://localhost:8080/"
        },
        "id": "Wh6DjeFL2hMu",
        "outputId": "e1d8703d-b565-4d45-ca9e-8be5cbe73d5d"
      },
      "source": [
        "class TreeNode(object): \n",
        "    def __init__(self, val): \n",
        "        self.val = val \n",
        "        self.left = None\n",
        "        self.right = None\n",
        "        self.height = 1\n",
        "class AVL_Tree(object): \n",
        "  \n",
        "    def insert(self, root, key): \n",
        "        if not root: \n",
        "            return TreeNode(key) \n",
        "        elif key < root.val: \n",
        "            root.left = self.insert(root.left, key) \n",
        "        else: \n",
        "            root.right = self.insert(root.right, key) \n",
        "  \n",
        "        root.height = 1 + max(self.getHeight(root.left), \n",
        "                           self.getHeight(root.right)) \n",
        "  \n",
        "        balance = self.getBalance(root) \n",
        "  \n",
        "        if balance > 1 and key < root.left.val: \n",
        "            return self.rightRotate(root) \n",
        "  \n",
        "        if balance < -1 and key > root.right.val: \n",
        "            return self.leftRotate(root) \n",
        "  \n",
        "        if balance > 1 and key > root.left.val: \n",
        "            root.left = self.leftRotate(root.left) \n",
        "            return self.rightRotate(root) \n",
        "  \n",
        "        if balance < -1 and key < root.right.val: \n",
        "            root.right = self.rightRotate(root.right) \n",
        "            return self.leftRotate(root) \n",
        "  \n",
        "        return root \n",
        "  \n",
        "    def leftRotate(self, z): \n",
        "  \n",
        "        y = z.right \n",
        "        T2 = y.left \n",
        "  \n",
        "        y.left = z \n",
        "        z.right = T2 \n",
        "  \n",
        "        z.height = 1 + max(self.getHeight(z.left), \n",
        "                         self.getHeight(z.right)) \n",
        "        y.height = 1 + max(self.getHeight(y.left), \n",
        "                         self.getHeight(y.right)) \n",
        "  \n",
        "        return y \n",
        "  \n",
        "    def rightRotate(self, z): \n",
        "  \n",
        "        y = z.left \n",
        "        T3 = y.right \n",
        "  \n",
        "        y.right = z \n",
        "        z.left = T3 \n",
        "  \n",
        "        z.height = 1 + max(self.getHeight(z.left), \n",
        "                        self.getHeight(z.right)) \n",
        "        y.height = 1 + max(self.getHeight(y.left), \n",
        "                        self.getHeight(y.right)) \n",
        "  \n",
        "        return y \n",
        "  \n",
        "    def getHeight(self, root): \n",
        "        if not root: \n",
        "            return 0\n",
        "  \n",
        "        return root.height \n",
        "  \n",
        "    def getBalance(self, root): \n",
        "        if not root: \n",
        "            return 0\n",
        "  \n",
        "        return self.getHeight(root.left) - self.getHeight(root.right) \n",
        "  \n",
        "    def preOrder(self, root): \n",
        "  \n",
        "        if not root: \n",
        "            return\n",
        "  \n",
        "        print(\"{0} \".format(root.val), end=\"\") \n",
        "        self.preOrder(root.left) \n",
        "        self.preOrder(root.right) \n",
        "  \n",
        "  \n",
        "myTree = AVL_Tree() \n",
        "root = None\n",
        "  \n",
        "root = myTree.insert(root, 100) \n",
        "root = myTree.insert(root, 200) \n",
        "root = myTree.insert(root, 300) \n",
        "root = myTree.insert(root, 400) \n",
        "root = myTree.insert(root, 500) \n",
        "root = myTree.insert(root, 250) \n",
        "  \n",
        "myTree.preOrder(root) \n",
        "print() \n",
        "  "
      ],
      "execution_count": 5,
      "outputs": [
        {
          "output_type": "stream",
          "text": [
            "300 200 100 250 400 500 \n"
          ],
          "name": "stdout"
        }
      ]
    },
    {
      "cell_type": "markdown",
      "metadata": {
        "id": "ggg87u6yE2nQ"
      },
      "source": [
        "Analisis de complejidad:\n",
        "\n",
        "a = 1\n",
        "\n",
        "b = 2\n",
        "\n",
        "d = O(n^0)\n",
        "\n",
        "T(n) = 1*T(n/2) + O(1) = O(log n)\n"
      ]
    },
    {
      "cell_type": "markdown",
      "metadata": {
        "id": "8CeoBNwnGIxa"
      },
      "source": [
        "Analisis Cualitativo:\n",
        "\n",
        "Los arboles AVL siempre estan equilibrados con esto lo que se trata de lograr es que las ramas no esten desbalanceadas en cuestiones de altura gracias al factor de equilibrio el cual  | Fe | >= 2 este necesita ser rebalanceado para poder mantener la forma del arbol AVL. \n",
        "\n",
        "Gracias a este tipo de balanceos la complejidad de la busqueda de este arbol AVL es O(log n). Como comprobamos eso? Facilmente a que es un algoritmo que utiliza Divide y venceras se puede utilizar el Master method para obtener su analisis de complejidad.\n",
        "\n",
        "Esto permite que la insercion se vuelva mas facil ya que al buscar la posicion para insertarse la encontraria mas rapido gracias al O(log n)."
      ]
    }
  ]
}