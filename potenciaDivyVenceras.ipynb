{
  "nbformat": 4,
  "nbformat_minor": 0,
  "metadata": {
    "colab": {
      "name": "potenciaDivyVenceras.ipynb",
      "provenance": [],
      "collapsed_sections": []
    },
    "kernelspec": {
      "name": "python3",
      "display_name": "Python 3"
    }
  },
  "cells": [
    {
      "cell_type": "code",
      "metadata": {
        "id": "xfH0ExwdlHL6"
      },
      "source": [
        "import math\n",
        "def pot(base, p):\n",
        "  if p == 0:\n",
        "    return 1\n",
        "  elif p == 1:\n",
        "    return base\n",
        "  else:\n",
        "    result = pot(base, math.floor(p / 2))\n",
        "    result = result * result\n",
        "    if p % 2 == 1:\n",
        "      result  = result * base\n",
        "    return result"
      ],
      "execution_count": 2,
      "outputs": []
    },
    {
      "cell_type": "code",
      "metadata": {
        "colab": {
          "base_uri": "https://localhost:8080/"
        },
        "id": "znMsXIzGl1ph",
        "outputId": "b71a7aea-995d-47e6-b807-5bbf324a586b"
      },
      "source": [
        "pot(2, 5)"
      ],
      "execution_count": 3,
      "outputs": [
        {
          "output_type": "execute_result",
          "data": {
            "text/plain": [
              "32"
            ]
          },
          "metadata": {
            "tags": []
          },
          "execution_count": 3
        }
      ]
    },
    {
      "cell_type": "code",
      "metadata": {
        "colab": {
          "base_uri": "https://localhost:8080/",
          "height": 450
        },
        "id": "YLPg6BJcVlMw",
        "outputId": "69b77c95-cca3-48b0-f1c8-119320d3079e"
      },
      "source": [
        "import matplotlib.pyplot as plt\n",
        "import numpy as np\n",
        "import time as t\n",
        "\n",
        "times = {}\n",
        "\n",
        "def test(n):\n",
        "  start_time = t.time()\n",
        "  print(pot(5,4))\n",
        "  times[n]= t.time() - start_time\n",
        "  print(\"--- %s seconds ---\" % (times[n]))\n",
        "\n",
        "def plot(times):\n",
        "  lists = sorted(times.items())\n",
        "  x, y = zip(*lists)\n",
        "  plt.plot(x, y)\n",
        "  plt.show()\n",
        "  print(times)\n",
        "\n",
        "for i in range(5):\n",
        "  test(i)\n",
        "\n",
        "plot(times)"
      ],
      "execution_count": null,
      "outputs": [
        {
          "output_type": "stream",
          "text": [
            "625\n",
            "--- 0.00010466575622558594 seconds ---\n",
            "625\n",
            "--- 2.574920654296875e-05 seconds ---\n",
            "625\n",
            "--- 5.054473876953125e-05 seconds ---\n",
            "625\n",
            "--- 1.9311904907226562e-05 seconds ---\n",
            "625\n",
            "--- 6.222724914550781e-05 seconds ---\n"
          ],
          "name": "stdout"
        },
        {
          "output_type": "display_data",
          "data": {
            "image/png": "[encoded data removed]",
            "text/plain": [
              "<Figure size 432x288 with 1 Axes>"
            ]
          },
          "metadata": {
            "tags": [],
            "needs_background": "light"
          }
        },
        {
          "output_type": "stream",
          "text": [
            "{0: 0.00010466575622558594, 1: 2.574920654296875e-05, 2: 5.054473876953125e-05, 3: 1.9311904907226562e-05, 4: 6.222724914550781e-05}\n"
          ],
          "name": "stdout"
        }
      ]
    },
    {
      "cell_type": "markdown",
      "metadata": {
        "id": "bBvNf17TVlpO"
      },
      "source": [
        "Masther Method:\n",
        "\n",
        "a = 1\n",
        "\n",
        "b = 2\n",
        "\n",
        "d = O(n^0)\n",
        "\n",
        "T(n) = 1*T(n/2) + O(n^0) = O(log n)"
      ]
    },
    {
      "cell_type": "markdown",
      "metadata": {
        "id": "2jG5ifPVVoNh"
      },
      "source": [
        "Analisis cualitativo: En este algoritmo se trata de hacer la menos cantidad de multiplicaciones para sacar la potencia de un numero. Pero la pregunta es: Por que usar Divide y Venceras? porque al hacer esto tenemos una solucion General de: T(n) = O(log n). Aprovechando las propiedas matematicas y la tecnica divide y Venceras logramos obtener un algortimo mas eficiente.\n",
        "Se basa en la propiedad: x^n = x^p*x^q.\n",
        "la recursion se comienza sacando la mitad de la potencia e ir calculando su valor y asi hasta llegar a uno de los casos base que serian:\n",
        "1) Si la potencia es 0, retornaria 1\n",
        "2) Si la potencia es 1, retorna la base\n",
        "\n",
        "podemos ver este ejemplo:\n",
        "\n",
        "2^4\n",
        "en el primero paso seria partir la potencia a la mitad para obtener 2^2 ya que \n",
        "2^2 * 2^2 = 2^4\n",
        "\n",
        "Entonces en vez de sacar 2 veces el 2^2 solo se saca 1 vez y se multiplica por el valor que dio la primera vez que se busco 2 veces y asi hasta llegar a los casos base."
      ]
    }
  ]
}