{
  "nbformat": 4,
  "nbformat_minor": 0,
  "metadata": {
    "colab": {
      "name": "Minimum Spanning Tree.ipynb",
      "provenance": [],
      "collapsed_sections": []
    },
    "kernelspec": {
      "name": "python3",
      "display_name": "Python 3"
    }
  },
  "cells": [
    {
      "cell_type": "code",
      "metadata": {
        "id": "ANODTQv39dBw"
      },
      "source": [
        "from collections import defaultdict\n",
        "\n",
        "class Grafo:\n",
        "    def __init__(self, vertices):\n",
        "        self.V = vertices\n",
        "        self.graph = []    \n",
        "     \n",
        "    def agregarArista(self, n1, n2, peso):\n",
        "        self.graph.append([n1, n2, peso])\n",
        " \n",
        "    def buscar(self, parent, i):\n",
        "        if parent[i] == i:\n",
        "            return i\n",
        "        return self.buscar(parent, parent[i])\n",
        " \n",
        "    def union(self, parent, rango, x, y):\n",
        "        firstRoot = self.buscar(parent, x)\n",
        "        secondRoot = self.buscar(parent, y)\n",
        " \n",
        "        if rango[firstRoot] < rango[secondRoot]:\n",
        "            parent[firstRoot] = secondRoot\n",
        "        elif rango[firstRoot] > rango[secondRoot]:\n",
        "            parent[secondRoot] = firstRoot\n",
        "        else:\n",
        "            parent[secondRoot] = firstRoot\n",
        "            rango[firstRoot] += 1\n",
        " \n",
        "    def DefinicionDeKruskal(self):\n",
        "        result = []\n",
        "        i = 0\n",
        "        e = 0\n",
        "        total = 0\n",
        "        self.graph =  sorted(self.graph, key=lambda item: item[2])\n",
        "        parent= []\n",
        "        rango= []\n",
        "        for node in range(self.V):\n",
        "            parent.append(node)\n",
        "            rango.append(0)\n",
        "        while e < self.V-1:\t\n",
        "            u, v, w =  self.graph[i]\n",
        "            i += 1\n",
        "            x = self.buscar(parent, u)\n",
        "            y = self.buscar(parent, v)\n",
        "            if x != y:\n",
        "                e += 1  \n",
        "                result.append([u, v, w])\n",
        "                self.union(parent, rango, x, y)          \n",
        "        for u, v, weight in result:\n",
        "            total += weight\n",
        "            print(\"Nodo Origen: \", u, \" Nodo Destino: \", v, \" Tiene un peso de: \", weight)\n",
        "        print(\"El Peso minimo es: \", total)\n",
        " "
      ],
      "execution_count": 4,
      "outputs": []
    },
    {
      "cell_type": "code",
      "metadata": {
        "colab": {
          "base_uri": "https://localhost:8080/"
        },
        "id": "sNDrmHB3JeLT",
        "outputId": "14a07045-b7e1-434b-d608-cf6100722f19"
      },
      "source": [
        "g = Grafo(5)\n",
        "g.agregarArista(0, 1, 5)\n",
        "g.agregarArista(0, 2, 4)\n",
        "g.agregarArista(1, 3, 7)\n",
        "g.agregarArista(2, 1, 9)\n",
        "g.agregarArista(3, 4, 3)\n",
        "g.agregarArista(4, 2, 11)\n",
        "g.DefinicionDeKruskal()"
      ],
      "execution_count": 5,
      "outputs": [
        {
          "output_type": "stream",
          "text": [
            "Nodo Origen:  3  Nodo Destino:  4  Tiene un peso de:  3\n",
            "Nodo Origen:  0  Nodo Destino:  2  Tiene un peso de:  4\n",
            "Nodo Origen:  0  Nodo Destino:  1  Tiene un peso de:  5\n",
            "Nodo Origen:  1  Nodo Destino:  3  Tiene un peso de:  7\n",
            "El Peso minimo es:  19\n"
          ],
          "name": "stdout"
        }
      ]
    },
    {
      "cell_type": "markdown",
      "metadata": {
        "id": "zJvIwPm4gfQJ"
      },
      "source": [
        "Analisis de complejidad:\n",
        "\n",
        "Este algoritmo no utiliza divide y venceras por lo tanto:\n",
        "\n",
        "Suponiendo m como el número de aristas del grafo y n el número de vértices, el algoritmo de Kruskal muestra una complejidad O(m log m) o, equivalentemente, O(m log n), cuando se ejecuta  Los tiempos de ejecución se vuelven equivalentes porque: \n",
        "m es a la suma n2 y log n2 = 2logn es O(log n).\n",
        "ignorando los vértices aislados, los cuales forman su propia componente del arbol \n",
        "Se puede conseguir esta complejidad de la siguiente manera: primero se ordenan las aristas por su peso usando una ordenación por comparación con una complejidad del orden de O(m log m); esto permite que el paso \"eliminar una arista de peso mínimo de C\" se ejecute en tiempo constante.\n"
      ]
    },
    {
      "cell_type": "markdown",
      "metadata": {
        "id": "Hzk-2OUSgjrR"
      },
      "source": [
        "Analisis cualitativo:\n",
        "\n",
        "Este algoritmo lo que hace es que un grafo el cual esta totalmente conectado lo que hace es buscar reducir lo mas posible la cantidad de aristas para que se pueda reducir la cantidad de peso posible.\n",
        "\n",
        "Este algoritmo tiene una complejidad de O(M Log N)\n",
        "Por lo tanto lo primero que hay que hacer ordenar por peso del mas menor al mayor para comenzar a remover los pesos minimos que afectan en un tiempo constante. Hay que tener en cuenta un factor a la hora de eliminar una arista y es que lo esencial es eliminar las aristas que ayudan a formar ciclos. Si la arista que estamos analizando no hace un ciclo esta nos sirve y la contamos como una arista necesaria y asi hasta encontrar que la suma de los pesos sea la opcion mas optima para el arbol totalmente minimizado."
      ]
    }
  ]
}