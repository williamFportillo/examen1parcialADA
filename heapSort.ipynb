{
  "nbformat": 4,
  "nbformat_minor": 0,
  "metadata": {
    "colab": {
      "name": "heapSort.ipynb",
      "provenance": [],
      "collapsed_sections": []
    },
    "kernelspec": {
      "name": "python3",
      "display_name": "Python 3"
    }
  },
  "cells": [
    {
      "cell_type": "code",
      "metadata": {
        "id": "N2oawTfA2Zf8"
      },
      "source": [
        "def searchNewRoot(lista, size, root):\n",
        "    biggerNumber = root\n",
        "    l = (2 * root) + 1\n",
        "    r = (2 * root) + 2\n",
        "    if l < size and lista[l] > lista[biggerNumber]:\n",
        "        biggerNumber = l\n",
        "    if r < size and lista[r] > lista[biggerNumber]:\n",
        "        biggerNumber = r\n",
        "    if root != biggerNumber:\n",
        "        temp = lista[root]\n",
        "        lista[root] = lista[biggerNumber]\n",
        "        lista[biggerNumber] = temp\n",
        "        searchNewRoot(lista, size, biggerNumber)"
      ],
      "execution_count": null,
      "outputs": []
    },
    {
      "cell_type": "code",
      "metadata": {
        "id": "19iDISj-2eq7"
      },
      "source": [
        "def heapSort(lista):\n",
        "    n = len(lista)\n",
        "    for i in range(n, -1, -1):\n",
        "        searchNewRoot(lista, n, i)\n",
        "    for i in range(n - 1, 0, -1):\n",
        "        temp = lista[i]\n",
        "        lista[i] = lista[0]\n",
        "        lista[0] = temp\n",
        "        searchNewRoot(lista, i, 0)"
      ],
      "execution_count": null,
      "outputs": []
    },
    {
      "cell_type": "code",
      "metadata": {
        "colab": {
          "base_uri": "https://localhost:8080/"
        },
        "id": "s-d4q7IaXRkC",
        "outputId": "4dec1594-0daf-45b6-ee4e-507983f16357"
      },
      "source": [
        "lista = [100, 80, 50, 20, 10]\n",
        "print(\"La lista antes del Heap Sort: \", lista)\n",
        "heapSort(lista)\n",
        "print(\"La lista despues del Heap Sort\", lista)"
      ],
      "execution_count": null,
      "outputs": [
        {
          "output_type": "stream",
          "text": [
            "La lista antes del Heap Sort:  [100, 80, 50, 20, 10]\n",
            "La lista despues del Heap Sort [10, 20, 50, 80, 100]\n"
          ],
          "name": "stdout"
        }
      ]
    },
    {
      "cell_type": "code",
      "metadata": {
        "colab": {
          "base_uri": "https://localhost:8080/",
          "height": 660
        },
        "id": "2TEtto2Ta4OZ",
        "outputId": "ac84b1f3-438e-4c48-ad04-e913abc489e3"
      },
      "source": [
        "import matplotlib.pyplot as plt\n",
        "import numpy as np\n",
        "import time as t\n",
        "\n",
        "times = {}\n",
        "lista = [10, 20, 50, 80, 100]\n",
        "\n",
        "def test(n):\n",
        "  start_time = t.time()\n",
        "  heapSort(lista)\n",
        "  print(lista)\n",
        "  times[n]= t.time() - start_time\n",
        "  print(\"--- %s seconds ---\" % (times[n]))\n",
        "\n",
        "def plot(times):\n",
        "  lists = sorted(times.items())\n",
        "  x, y = zip(*lists)\n",
        "  plt.plot(x, y)\n",
        "  plt.show()\n",
        "  print(times)\n",
        "\n",
        "for i in range(10):\n",
        "  test(i)\n",
        "\n",
        "plot(times)"
      ],
      "execution_count": null,
      "outputs": [
        {
          "output_type": "stream",
          "text": [
            "[10, 20, 50, 80, 100]\n",
            "--- 8.630752563476562e-05 seconds ---\n",
            "[10, 20, 50, 80, 100]\n",
            "--- 3.814697265625e-05 seconds ---\n",
            "[10, 20, 50, 80, 100]\n",
            "--- 7.581710815429688e-05 seconds ---\n",
            "[10, 20, 50, 80, 100]\n",
            "--- 3.457069396972656e-05 seconds ---\n",
            "[10, 20, 50, 80, 100]\n",
            "--- 3.1948089599609375e-05 seconds ---\n",
            "[10, 20, 50, 80, 100]\n",
            "--- 3.361701965332031e-05 seconds ---\n",
            "[10, 20, 50, 80, 100]\n",
            "--- 3.170967102050781e-05 seconds ---\n",
            "[10, 20, 50, 80, 100]\n",
            "--- 3.123283386230469e-05 seconds ---\n",
            "[10, 20, 50, 80, 100]\n",
            "--- 3.147125244140625e-05 seconds ---\n",
            "[10, 20, 50, 80, 100]\n",
            "--- 3.24249267578125e-05 seconds ---\n"
          ],
          "name": "stdout"
        },
        {
          "output_type": "display_data",
          "data": {
            "image/png": "[encoded data removed]",
            "text/plain": [
              "<Figure size 432x288 with 1 Axes>"
            ]
          },
          "metadata": {
            "tags": [],
            "needs_background": "light"
          }
        },
        {
          "output_type": "stream",
          "text": [
            "{0: 8.630752563476562e-05, 1: 3.814697265625e-05, 2: 7.581710815429688e-05, 3: 3.457069396972656e-05, 4: 3.1948089599609375e-05, 5: 3.361701965332031e-05, 6: 3.170967102050781e-05, 7: 3.123283386230469e-05, 8: 3.147125244140625e-05, 9: 3.24249267578125e-05}\n"
          ],
          "name": "stdout"
        }
      ]
    },
    {
      "cell_type": "markdown",
      "metadata": {
        "id": "1C_IdG62cMrA"
      },
      "source": [
        "Master Method:\n",
        "\n",
        "a = 1\n",
        "\n",
        "b = 2\n",
        "\n",
        "d = O(n^0)\n",
        "\n",
        "T(n) = 1*T(n/2) + O(n^0) = O(n log n)"
      ]
    },
    {
      "cell_type": "markdown",
      "metadata": {
        "id": "LW1xE1UEcO0z"
      },
      "source": [
        "Analisis cualitativo: \n",
        "\n",
        "El heapSort se trata de un algoritmo que es de O(n log n) que se encarga de ordenar un arreglo desordenado de menor a mayor.\n",
        "Como este algoritmo logra esto?\n",
        "El forma un arbol balanceado donde los hijos menores van a la izquierda de la raiz y los mayores van a la derecha de la raiz entonces de primera impresion el arbol esta totalmente \"desbalanceado\" entonces comienza a comparar a travez del \"Divide y venceras\" los izquierdos y los derechos. entonces comienza a preguntar si el hijo izquierdo de la raiz es mayor que la raiz ? si esta condicion es cierta el hijo izquierda pasa a ser la nueva raiz y recursivamente vuelve a hacer este proceso hasta que el arbol quede balanceado y cuando el numero mas grande quede en la raiz principal este entra al nuevo arreglo como el numero mas grande y asi sucesivamente se comienza a ordenar el arreglo hasta quedar totalmente ordenado de menor a mayor."
      ]
    }
  ]
}